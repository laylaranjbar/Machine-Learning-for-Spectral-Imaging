{
 "cells": [
  {
   "cell_type": "code",
   "execution_count": 2,
   "metadata": {},
   "outputs": [],
   "source": [
    "import spectral"
   ]
  },
  {
   "cell_type": "markdown",
   "metadata": {},
   "source": [
    "# Open a hyperspectral image:\n",
    "1. This file is in the ENVI format, a standard format for hyperspectral images.\n",
    "2. The ENVI format has 2 files:\n",
    "    - The header file has the extension .hdr, and is a text file with metadata for the image.\n",
    "    - The data for the image is in a file of the same name as the header, but with a different entension or no extension."
   ]
  },
  {
   "cell_type": "code",
   "execution_count": 4,
   "metadata": {},
   "outputs": [],
   "source": [
    "# The first input is the name of the header file and the second is the name of the image data file.\n",
    "im = spectral.envi.open('WashingtonDC_reflectance.hdr', 'WashingtonDC_reflectance')\n",
    "\n",
    "# The name of the image data file is optional if the file has the same name as the header without the .hdr extension.\n",
    "im = spectral.envi.open('WashingtonDC_reflectance.hdr')"
   ]
  },
  {
   "cell_type": "markdown",
   "metadata": {},
   "source": [
    "You can often get information about a function by using ?funtion_name:"
   ]
  },
  {
   "cell_type": "code",
   "execution_count": 5,
   "metadata": {},
   "outputs": [
    {
     "name": "stdout",
     "output_type": "stream",
     "text": [
      "\u001b[1;31mSignature:\u001b[0m \u001b[0mspectral\u001b[0m\u001b[1;33m.\u001b[0m\u001b[0menvi\u001b[0m\u001b[1;33m.\u001b[0m\u001b[0mopen\u001b[0m\u001b[1;33m(\u001b[0m\u001b[0mfile\u001b[0m\u001b[1;33m,\u001b[0m \u001b[0mimage\u001b[0m\u001b[1;33m=\u001b[0m\u001b[1;32mNone\u001b[0m\u001b[1;33m)\u001b[0m\u001b[1;33m\u001b[0m\u001b[1;33m\u001b[0m\u001b[0m\n",
      "\u001b[1;31mDocstring:\u001b[0m\n",
      "Opens an image or spectral library with an associated ENVI HDR header file.\n",
      "\n",
      "Arguments:\n",
      "\n",
      "    `file` (str):\n",
      "\n",
      "        Name of the header file for the image.\n",
      "\n",
      "    `image` (str):\n",
      "\n",
      "        Optional name of the associated image data file.\n",
      "\n",
      "Returns:\n",
      "\n",
      "    :class:`spectral.SpyFile` or :class:`spectral.io.envi.SpectralLibrary`\n",
      "    object.\n",
      "\n",
      "Raises:\n",
      "\n",
      "    TypeError, EnviDataFileNotFoundError\n",
      "\n",
      "If the specified file is not found in the current directory, all\n",
      "directories listed in the SPECTRAL_DATA environment variable will be\n",
      "searched until the file is found.  Based on the name of the header file,\n",
      "this function will search for the image file in the same directory as the\n",
      "header, looking for a file with the same name as the header but different\n",
      "extension. Extensions recognized are .img, .dat, .sli, and no extension.\n",
      "Capitalized versions of the file extensions are also searched.\n",
      "\u001b[1;31mFile:\u001b[0m      c:\\users\\wb8by\\appdata\\roaming\\python\\python311\\site-packages\\spectral\\io\\envi.py\n",
      "\u001b[1;31mType:\u001b[0m      function"
     ]
    }
   ],
   "source": [
    "?spectral.envi.open"
   ]
  },
  {
   "cell_type": "markdown",
   "metadata": {},
   "source": [
    "# Inspect the metadata:"
   ]
  },
  {
   "cell_type": "code",
   "execution_count": 1,
   "metadata": {},
   "outputs": [
    {
     "name": "stdout",
     "output_type": "stream",
     "text": [
      "((83, 111, 238), '#536fee')\n"
     ]
    }
   ],
   "source": [
    "from tkinter import colorchooser\n",
    " \n",
    "# variable to store hexadecimal code of color\n",
    "color_code = colorchooser.askcolor(title =\"Choose color\") \n",
    "print(color_code)"
   ]
  }
 ],
 "metadata": {
  "kernelspec": {
   "display_name": "Python 3",
   "language": "python",
   "name": "python3"
  },
  "language_info": {
   "codemirror_mode": {
    "name": "ipython",
    "version": 3
   },
   "file_extension": ".py",
   "mimetype": "text/x-python",
   "name": "python",
   "nbconvert_exporter": "python",
   "pygments_lexer": "ipython3",
   "version": "3.11.3"
  }
 },
 "nbformat": 4,
 "nbformat_minor": 2
}
