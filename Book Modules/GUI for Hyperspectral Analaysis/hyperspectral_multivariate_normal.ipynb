{
 "cells": [
  {
   "cell_type": "code",
   "execution_count": 5,
   "metadata": {},
   "outputs": [],
   "source": [
    "import hsi_viewer as hv\n",
    "import hsi_viewer_2 as hv2\n",
    "import spectral\n",
    "import numpy as np\n",
    "import importlib"
   ]
  },
  {
   "cell_type": "markdown",
   "metadata": {},
   "source": [
    "# Viewing an image"
   ]
  },
  {
   "cell_type": "code",
   "execution_count": 6,
   "metadata": {},
   "outputs": [
    {
     "name": "stdout",
     "output_type": "stream",
     "text": [
      "Shape of ImArr = (852, 384, 452)\n",
      "Shape of imList = (327168, 452)\n"
     ]
    }
   ],
   "source": [
    "fname = 'C:/Users/wb8by/Documents/GitHub/Machine-Learning-for-Spectral-Imaging/Book Modules/spectral_images/Microscene_Polymers/reflectance_image_polymers'\n",
    "#fname = 'C:/Users/wb8by/Desktop/Morven_08_20_2024_Fragements_For Bill/lower 01_full spectra_multi_or'\n",
    "\n",
    "im = spectral.envi.open(fname+'.hdr', fname)\n",
    "wl = np.asarray(im.bands.centers)\n",
    "im.Arr = im.load()\n",
    "print(f'Shape of ImArr = {im.Arr.shape}')\n",
    "im.List = np.reshape(im.Arr, (im.nrows*im.ncols, im.nbands))\n",
    "print(f'Shape of imList = {im.List.shape}')"
   ]
  },
  {
   "cell_type": "code",
   "execution_count": 9,
   "metadata": {},
   "outputs": [
    {
     "ename": "TypeError",
     "evalue": "arguments did not match any overloaded call:\n  setGeometry(self, a0: QRect): argument 1 has unexpected type 'int'\n  setGeometry(self, ax: int, ay: int, aw: int, ah: int): argument 4 has unexpected type 'float'",
     "output_type": "error",
     "traceback": [
      "\u001b[1;31m---------------------------------------------------------------------------\u001b[0m",
      "\u001b[1;31mTypeError\u001b[0m                                 Traceback (most recent call last)",
      "Cell \u001b[1;32mIn[9], line 3\u001b[0m\n\u001b[0;32m      1\u001b[0m \u001b[38;5;66;03m# viewer showing smoothed spectra\u001b[39;00m\n\u001b[0;32m      2\u001b[0m importlib\u001b[38;5;241m.\u001b[39mreload(hv2)\n\u001b[1;32m----> 3\u001b[0m \u001b[43mhv2\u001b[49m\u001b[38;5;241;43m.\u001b[39;49m\u001b[43mviewer\u001b[49m\u001b[43m(\u001b[49m\u001b[43mim\u001b[49m\u001b[43m)\u001b[49m\n",
      "File \u001b[1;32mc:\\Users\\wb8by\\Documents\\GitHub\\Machine-Learning-for-Spectral-Imaging\\Book Modules\\GUI for Hyperspectral Analaysis\\hsi_viewer_2.py:28\u001b[0m, in \u001b[0;36mviewer.__init__\u001b[1;34m(self, im)\u001b[0m\n\u001b[0;32m     26\u001b[0m     \u001b[38;5;28mself\u001b[39m\u001b[38;5;241m.\u001b[39mh \u001b[38;5;241m=\u001b[39m \u001b[38;5;241m1200\u001b[39m\n\u001b[0;32m     27\u001b[0m     \u001b[38;5;28mself\u001b[39m\u001b[38;5;241m.\u001b[39mw \u001b[38;5;241m=\u001b[39m aspect_ratio\u001b[38;5;241m*\u001b[39m\u001b[38;5;28mself\u001b[39m\u001b[38;5;241m.\u001b[39mh\n\u001b[1;32m---> 28\u001b[0m \u001b[38;5;28;43mself\u001b[39;49m\u001b[38;5;241;43m.\u001b[39;49m\u001b[43msetGeometry\u001b[49m\u001b[43m(\u001b[49m\u001b[38;5;241;43m40\u001b[39;49m\u001b[43m,\u001b[49m\u001b[43m \u001b[49m\u001b[38;5;241;43m40\u001b[39;49m\u001b[43m,\u001b[49m\u001b[43m \u001b[49m\u001b[38;5;28;43mself\u001b[39;49m\u001b[38;5;241;43m.\u001b[39;49m\u001b[43mw\u001b[49m\u001b[43m,\u001b[49m\u001b[43m \u001b[49m\u001b[38;5;28;43mself\u001b[39;49m\u001b[38;5;241;43m.\u001b[39;49m\u001b[43mh\u001b[49m\u001b[43m)\u001b[49m  \u001b[38;5;66;03m#loc_x, loc_y, width, height  \u001b[39;00m\n\u001b[0;32m     29\u001b[0m \u001b[38;5;66;03m# create the display window with the image\u001b[39;00m\n\u001b[0;32m     30\u001b[0m \u001b[38;5;28mself\u001b[39m\u001b[38;5;241m.\u001b[39mshow_RGB()         \n",
      "\u001b[1;31mTypeError\u001b[0m: arguments did not match any overloaded call:\n  setGeometry(self, a0: QRect): argument 1 has unexpected type 'int'\n  setGeometry(self, ax: int, ay: int, aw: int, ah: int): argument 4 has unexpected type 'float'"
     ]
    }
   ],
   "source": [
    "# viewer showing smoothed spectra\n",
    "importlib.reload(hv2)\n",
    "hv2.viewer(im)"
   ]
  },
  {
   "cell_type": "code",
   "execution_count": null,
   "metadata": {},
   "outputs": [],
   "source": []
  },
  {
   "cell_type": "code",
   "execution_count": 8,
   "metadata": {},
   "outputs": [
    {
     "ename": "TypeError",
     "evalue": "arguments did not match any overloaded call:\n  setGeometry(self, a0: QRect): argument 1 has unexpected type 'int'\n  setGeometry(self, ax: int, ay: int, aw: int, ah: int): argument 4 has unexpected type 'float'",
     "output_type": "error",
     "traceback": [
      "\u001b[1;31m---------------------------------------------------------------------------\u001b[0m",
      "\u001b[1;31mTypeError\u001b[0m                                 Traceback (most recent call last)",
      "Cell \u001b[1;32mIn[8], line 3\u001b[0m\n\u001b[0;32m      1\u001b[0m \u001b[38;5;66;03m# viewer showing smoothed spectra\u001b[39;00m\n\u001b[0;32m      2\u001b[0m importlib\u001b[38;5;241m.\u001b[39mreload(hv2)\n\u001b[1;32m----> 3\u001b[0m \u001b[43mhv2\u001b[49m\u001b[38;5;241;43m.\u001b[39;49m\u001b[43mviewer\u001b[49m\u001b[43m(\u001b[49m\u001b[43mim\u001b[49m\u001b[43m)\u001b[49m\n",
      "File \u001b[1;32mc:\\Users\\wb8by\\Documents\\GitHub\\Machine-Learning-for-Spectral-Imaging\\Book Modules\\GUI for Hyperspectral Analaysis\\hsi_viewer_2.py:28\u001b[0m, in \u001b[0;36mviewer.__init__\u001b[1;34m(self, im)\u001b[0m\n\u001b[0;32m     26\u001b[0m     \u001b[38;5;28mself\u001b[39m\u001b[38;5;241m.\u001b[39mh \u001b[38;5;241m=\u001b[39m \u001b[38;5;241m1200\u001b[39m\n\u001b[0;32m     27\u001b[0m     \u001b[38;5;28mself\u001b[39m\u001b[38;5;241m.\u001b[39mw \u001b[38;5;241m=\u001b[39m aspect_ratio\u001b[38;5;241m*\u001b[39m\u001b[38;5;28mself\u001b[39m\u001b[38;5;241m.\u001b[39mh\n\u001b[1;32m---> 28\u001b[0m \u001b[38;5;28;43mself\u001b[39;49m\u001b[38;5;241;43m.\u001b[39;49m\u001b[43msetGeometry\u001b[49m\u001b[43m(\u001b[49m\u001b[38;5;241;43m40\u001b[39;49m\u001b[43m,\u001b[49m\u001b[43m \u001b[49m\u001b[38;5;241;43m40\u001b[39;49m\u001b[43m,\u001b[49m\u001b[43m \u001b[49m\u001b[38;5;28;43mself\u001b[39;49m\u001b[38;5;241;43m.\u001b[39;49m\u001b[43mw\u001b[49m\u001b[43m,\u001b[49m\u001b[43m \u001b[49m\u001b[38;5;28;43mself\u001b[39;49m\u001b[38;5;241;43m.\u001b[39;49m\u001b[43mh\u001b[49m\u001b[43m)\u001b[49m  \u001b[38;5;66;03m#loc_x, loc_y, width, height  \u001b[39;00m\n\u001b[0;32m     29\u001b[0m \u001b[38;5;66;03m# create the display window with the image\u001b[39;00m\n\u001b[0;32m     30\u001b[0m \u001b[38;5;28mself\u001b[39m\u001b[38;5;241m.\u001b[39mshow_RGB()         \n",
      "\u001b[1;31mTypeError\u001b[0m: arguments did not match any overloaded call:\n  setGeometry(self, a0: QRect): argument 1 has unexpected type 'int'\n  setGeometry(self, ax: int, ay: int, aw: int, ah: int): argument 4 has unexpected type 'float'"
     ]
    }
   ],
   "source": [
    "# viewer showing smoothed spectra\n",
    "importlib.reload(hv2)\n",
    "hv2.viewer(im)"
   ]
  }
 ],
 "metadata": {
  "kernelspec": {
   "display_name": ".venv",
   "language": "python",
   "name": "python3"
  },
  "language_info": {
   "codemirror_mode": {
    "name": "ipython",
    "version": 3
   },
   "file_extension": ".py",
   "mimetype": "text/x-python",
   "name": "python",
   "nbconvert_exporter": "python",
   "pygments_lexer": "ipython3",
   "version": "3.10.14"
  }
 },
 "nbformat": 4,
 "nbformat_minor": 2
}
