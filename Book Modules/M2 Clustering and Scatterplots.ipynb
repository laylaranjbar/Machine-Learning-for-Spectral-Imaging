{
 "cells": [
  {
   "cell_type": "code",
   "execution_count": null,
   "metadata": {},
   "outputs": [],
   "source": [
    "# Common useful packages\n",
    "import matplotlib.pyplot as plt\n",
    "from matplotlib import colors\n",
    "import numpy as np\n",
    "import copy\n",
    "import spectral\n",
    "\n",
    "# module that is useful for reloading packages\n",
    "import importlib\n",
    "\n",
    "# Scripts associated with the SML4SI textbook\n",
    "import scripts_M1 as sm1\n",
    "import scripts_M2 as sm2"
   ]
  },
  {
   "cell_type": "markdown",
   "metadata": {},
   "source": [
    "# Part 1: Open the image and load the data as a numpy array."
   ]
  },
  {
   "cell_type": "code",
   "execution_count": null,
   "metadata": {},
   "outputs": [],
   "source": [
    "# Download the required imagery if needed\n",
    "sm1.download_Washington_DC_Image()\n",
    "# Open the image and read into an array\n",
    "fname = 'spectral_images/WashingtonDC_Ref_156bands/WashingtonDC_Ref_156bands'\n",
    "im = spectral.envi.open(fname+'.hdr', fname)\n",
    "wl = np.asarray(im.bands.centers)\n",
    "# Load the image into memory\n",
    "imArr = im.load()\n",
    "print(f'Shape of ImArr = {imArr.shape}')\n",
    "imList = np.reshape(imArr, (im.nrows*im.ncols, im.nbands))\n",
    "print(f'Shape of imList = {imList.shape}')"
   ]
  },
  {
   "cell_type": "markdown",
   "metadata": {},
   "source": [
    "# PART 2: Viewing a scatterplot of the hyperspectral image."
   ]
  },
  {
   "cell_type": "code",
   "execution_count": null,
   "metadata": {},
   "outputs": [],
   "source": [
    "# Create a scatterplot of the data\n",
    "i1 = 30\n",
    "i2 = 60\n",
    "\n",
    "plt.figure(figsize=(15,10))\n",
    "plt.scatter(imList[:,i1], imList[:,i2], s=5, alpha=0.5);\n",
    "plt.xlim(0,8000)\n",
    "plt.grid(True)\n",
    "plt.xlabel(f'Reflectance at {wl[i1]:.1f} nm')\n",
    "plt.ylabel(f'Reflectance at {wl[i2]:.1f} nm')\n",
    "plt.title('Scatterplot of the Washington DC Image');"
   ]
  },
  {
   "cell_type": "markdown",
   "metadata": {},
   "source": [
    "# Part 3: Clustering using K-Means\n",
    "\n",
    "Documentation on K Means clustering using sklearn in Python: https://scikit-learn.org/stable/modules/generated/sklearn.cluster.KMeans.html\n",
    "\n",
    "A discussion of 11 clustering algorithms with Python implementations is provided in: https://scikit-learn.org/stable/modules/clustering.html"
   ]
  },
  {
   "cell_type": "code",
   "execution_count": null,
   "metadata": {},
   "outputs": [],
   "source": [
    "from sklearn.cluster import KMeans\n",
    "n_clusters = 5\n",
    "\n",
    "# define the model\n",
    "model = KMeans(n_clusters=n_clusters)\n",
    "# fit the model\n",
    "model.fit(imList)\n",
    "# assign a cluster to each example\n",
    "yhat = model.predict(imList)"
   ]
  },
  {
   "cell_type": "code",
   "execution_count": null,
   "metadata": {},
   "outputs": [],
   "source": [
    "# Create a scatterplot of the data, colored by class\n",
    "i1 = 30\n",
    "i2 = 60\n",
    "\n",
    "plt.figure(figsize=(15,10))\n",
    "plt.scatter(imList[:,i1], imList[:,i2], s=5, c=yhat, alpha=0.5, cmap='jet');\n",
    "plt.xlim(0,8000)\n",
    "plt.grid(True)\n",
    "plt.xlabel(f'Reflectance at {wl[i1]:.1f} nm')\n",
    "plt.ylabel(f'Reflectance at {wl[i2]:.1f} nm')\n",
    "plt.title('Scatterplot of the Washington DC Image');"
   ]
  },
  {
   "cell_type": "code",
   "execution_count": null,
   "metadata": {},
   "outputs": [],
   "source": [
    "# Display the image, with each pixel colored by class\n",
    "class_image = np.reshape(yhat, (im.nrows, im.ncols))\n",
    "\n",
    "plt.figure(figsize=(15,5)) \n",
    "plt.imshow(np.flip(np.rot90(class_image), axis=0), cmap='jet');\n",
    "plt.gca().invert_yaxis()  \n",
    "plt.xlabel('Row');\n",
    "plt.ylabel('Column');\n",
    "plt.title('Class Image')\n",
    "\n",
    "sm2.display_RGB(imArr, wl, rotate=True)\n",
    "plt.title('RGB Image');"
   ]
  },
  {
   "cell_type": "code",
   "execution_count": null,
   "metadata": {},
   "outputs": [],
   "source": [
    "# Plot a few randomly selected spectra from each class\n",
    "colors = plt.cm.jet(np.linspace(0,1,n_clusters)) # Create a list of colors to color the plots\n",
    "N = 5 #number of spectra to plot for each class\n",
    "\n",
    "class_labels = np.unique(yhat) # Get a list of the class labels\n",
    "\n",
    "plt.figure(figsize=(15,5))\n",
    "for lbl in class_labels:\n",
    "    class_indices = np.where(yhat==lbl)[0] # get the set of indices for this class\n",
    "    class_indices_subset = np.random.choice(class_indices, size=N) # get a random subset of the indices for spectra for this class\n",
    "    for idx in class_indices_subset:\n",
    "        plt.plot(wl, imList[idx,:], c=colors[lbl])\n",
    "\n",
    "plt.grid(True)\n",
    "plt.xlabel('Wavelength (nm)')\n",
    "plt.ylabel('Reflectance')\n",
    "plt.title('Randomly Selected Spectra from the Clusters');"
   ]
  },
  {
   "cell_type": "code",
   "execution_count": null,
   "metadata": {},
   "outputs": [],
   "source": [
    "# Plot the mean of each class\n",
    "colors = plt.cm.jet(np.linspace(0,1,n_clusters)) # Create a list of colors to color the plots\n",
    "\n",
    "class_labels = np.unique(yhat) # Get a list of the class labels\n",
    "\n",
    "plt.figure(figsize=(15,5))\n",
    "for lbl in class_labels:\n",
    "    class_indices = np.where(yhat==lbl)[0] # get the set of indices for this class\n",
    "    class_mean = np.mean(imList[class_indices,:], axis=0) \n",
    "    plt.plot(wl, class_mean, c=colors[lbl])\n",
    "\n",
    "plt.grid(True)\n",
    "plt.xlabel('Wavelength (nm)')\n",
    "plt.ylabel('Reflectance')\n",
    "plt.title('Mean Spectrum for each Cluster');"
   ]
  },
  {
   "cell_type": "code",
   "execution_count": null,
   "metadata": {},
   "outputs": [],
   "source": [
    "# Plot the mean of each class along with a 1-sigma range\n",
    "colors = plt.cm.jet(np.linspace(0,1,n_clusters)) # Create a list of colors to color the plots\n",
    "\n",
    "class_labels = np.unique(yhat) # Get a list of the class labels\n",
    "\n",
    "plt.figure(figsize=(15,5))\n",
    "for lbl in class_labels:\n",
    "    class_indices = np.where(yhat==lbl)[0] # get the set of indices for this class\n",
    "    class_std = np.std(imList[class_indices,:], axis=0) #\n",
    "    class_mean = np.mean(imList[class_indices,:], axis=0) \n",
    "    plt.gca().fill_between(wl, class_mean+0.5*class_std, class_mean-0.5*class_std, color=colors[lbl], alpha=0.25)\n",
    "    plt.plot(wl, class_mean, c=colors[lbl])\n",
    "\n",
    "plt.grid(True)\n",
    "plt.xlabel('Wavelength (nm)')\n",
    "plt.ylabel('Reflectance')\n",
    "plt.title('Mean Spectrum for each Cluster');"
   ]
  }
 ],
 "metadata": {
  "kernelspec": {
   "display_name": "Python 3",
   "language": "python",
   "name": "python3"
  },
  "language_info": {
   "codemirror_mode": {
    "name": "ipython",
    "version": 3
   },
   "file_extension": ".py",
   "mimetype": "text/x-python",
   "name": "python",
   "nbconvert_exporter": "python",
   "pygments_lexer": "ipython3",
   "version": "3.11.3"
  }
 },
 "nbformat": 4,
 "nbformat_minor": 2
}
