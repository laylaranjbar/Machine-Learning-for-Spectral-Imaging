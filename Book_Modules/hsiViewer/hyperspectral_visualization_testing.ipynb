{
 "cells": [
  {
   "cell_type": "code",
   "execution_count": null,
   "metadata": {},
   "outputs": [],
   "source": [
    "import hsi_viewer as hv\n",
    "import hsi_viewer_layers as hvl\n",
    "import hsi_viewer_ROI as hvr\n",
    "import hsi_viewer_2 as hv2\n",
    "import spectral\n",
    "import numpy as np\n",
    "import importlib\n",
    "import matplotlib.pyplot as plt\n",
    "import pyqtgraph as pg"
   ]
  },
  {
   "cell_type": "markdown",
   "metadata": {},
   "source": [
    "# Viewing an image"
   ]
  },
  {
   "cell_type": "code",
   "execution_count": 27,
   "metadata": {},
   "outputs": [
    {
     "name": "stdout",
     "output_type": "stream",
     "text": [
      "Shape of ImArr = (852, 384, 452)\n",
      "Shape of imList = (327168, 452)\n"
     ]
    }
   ],
   "source": [
    "#fname = 'C:/spectral_data/Morven_08_20_2024_Fragements_For Bill/lower 01_full spectra_multi_or'\n",
    "fname = 'C:\\spectral_data\\spectral_images\\Microscene_Polymers/reflectance_image_polymers'\n",
    "\n",
    "im = spectral.envi.open(fname+'.hdr', fname)\n",
    "wl = np.asarray(im.bands.centers)\n",
    "im.Arr = im.load()\n",
    "print(f'Shape of ImArr = {im.Arr.shape}')\n",
    "im.List = np.reshape(im.Arr, (im.nrows*im.ncols, im.nbands))\n",
    "print(f'Shape of imList = {im.List.shape}')"
   ]
  },
  {
   "cell_type": "code",
   "execution_count": 38,
   "metadata": {},
   "outputs": [
    {
     "data": {
      "text/plain": [
       "<dev.hsi_viewer_ROI.viewer at 0x1da91ee1120>"
      ]
     },
     "execution_count": 38,
     "metadata": {},
     "output_type": "execute_result"
    }
   ],
   "source": [
    "# viewer for creating ROIs\n",
    "importlib.reload(hvr)\n",
    "hvr.viewer(im)"
   ]
  },
  {
   "cell_type": "code",
   "execution_count": null,
   "metadata": {},
   "outputs": [
    {
     "data": {
      "text/plain": [
       "'\\nlib = spectral.envi.open(\\'C:\\\\spectral_data\\\\spectral_libraries\\\\UPWINS_4_16_2024\\\\UPWINS_4_16_2024.hdr\\')\\nplotWidget = pg.plot(title=\"Three Spectra\")\\ni = 0\\nfor x,y in [[643,150],[276,74]]:\\n    i = i + 1\\n    spec = np.squeeze(im.Arr[x,y,:])\\n    spec = 0.5*spec/spec[200]\\n    plotWidget.plot(wl, spec, pen=(i,3))  ## setting pen=(i,3) automaticaly creates three different-colored pens\\nidx = 50\\ni = i + 1\\nplotWidget.plot(lib.bands.centers, lib.spectra[i], pen=(i,3), name=lib.names[i])\\nplotWidget.showGrid(True, True)\\nplotWidget.addLegend()\\npg.exec()\\n'"
      ]
     },
     "execution_count": 4,
     "metadata": {},
     "output_type": "execute_result"
    }
   ],
   "source": [
    "'''\n",
    "lib = spectral.envi.open('C:\\\\spectral_data\\\\spectral_libraries\\\\UPWINS_4_16_2024\\\\UPWINS_4_16_2024.hdr')\n",
    "plotWidget = pg.plot(title=\"Three Spectra\")\n",
    "i = 0\n",
    "for x,y in [[643,150],[276,74]]:\n",
    "    i = i + 1\n",
    "    spec = np.squeeze(im.Arr[x,y,:])\n",
    "    spec = 0.5*spec/spec[200]\n",
    "    plotWidget.plot(wl, spec, pen=(i,3))  ## setting pen=(i,3) automaticaly creates three different-colored pens\n",
    "idx = 50\n",
    "i = i + 1\n",
    "plotWidget.plot(lib.bands.centers, lib.spectra[i], pen=(i,3), name=lib.names[i])\n",
    "plotWidget.showGrid(True, True)\n",
    "plotWidget.addLegend()\n",
    "pg.exec()\n",
    "'''"
   ]
  }
 ],
 "metadata": {
  "kernelspec": {
   "display_name": "hyperspectral_visualization",
   "language": "python",
   "name": "python3"
  },
  "language_info": {
   "codemirror_mode": {
    "name": "ipython",
    "version": 3
   },
   "file_extension": ".py",
   "mimetype": "text/x-python",
   "name": "python",
   "nbconvert_exporter": "python",
   "pygments_lexer": "ipython3",
   "version": "3.10.14"
  }
 },
 "nbformat": 4,
 "nbformat_minor": 2
}
